{
  "nbformat": 4,
  "nbformat_minor": 0,
  "metadata": {
    "colab": {
      "name": "randomforest.ipynb",
      "provenance": [],
      "collapsed_sections": [],
      "authorship_tag": "ABX9TyPFpnDiTRiEQ6SqgkS92Um6",
      "include_colab_link": true
    },
    "kernelspec": {
      "name": "python3",
      "display_name": "Python 3"
    }
  },
  "cells": [
    {
      "cell_type": "markdown",
      "metadata": {
        "id": "view-in-github",
        "colab_type": "text"
      },
      "source": [
        "<a href=\"https://colab.research.google.com/github/trajinthan/Creditcard-Default-prediction/blob/master/randomforest.ipynb\" target=\"_parent\"><img src=\"https://colab.research.google.com/assets/colab-badge.svg\" alt=\"Open In Colab\"/></a>"
      ]
    },
    {
      "cell_type": "code",
      "metadata": {
        "id": "hw9xrHuHX4DK",
        "colab_type": "code",
        "colab": {}
      },
      "source": [
        ""
      ],
      "execution_count": 0,
      "outputs": []
    },
    {
      "cell_type": "code",
      "metadata": {
        "id": "rT8zFjDeRd8R",
        "colab_type": "code",
        "colab": {}
      },
      "source": [
        "import pandas as pd   #to use read_csv(), crosstab()\n",
        "import numpy as np    #to use exponentiation : exp()\n",
        "import statsmodels.api as sm  #to use the Logit()\n",
        "import matplotlib.pyplot as plt\n",
        "import seaborn as sns\n",
        "import scipy.stats as stats\n",
        "%matplotlib inline"
      ],
      "execution_count": 0,
      "outputs": []
    },
    {
      "cell_type": "code",
      "metadata": {
        "id": "HK2InDRricgC",
        "colab_type": "code",
        "colab": {}
      },
      "source": [
        "#import the dataset\n",
        "traindata=pd.read_csv('credit_card_default_train.csv',sep=\",\")\n",
        "testdata=pd.read_csv('credit_card_default_test.csv',sep=\",\")"
      ],
      "execution_count": 0,
      "outputs": []
    },
    {
      "cell_type": "code",
      "metadata": {
        "id": "5vcSHx-kvQLN",
        "colab_type": "code",
        "colab": {}
      },
      "source": [
        "traindata=traindata.replace(['M','F'], [0,1]) \n",
        "testdata=testdata.replace(['M','F'], [0,1]) "
      ],
      "execution_count": 0,
      "outputs": []
    },
    {
      "cell_type": "code",
      "metadata": {
        "id": "rGvWVzvU0E8-",
        "colab_type": "code",
        "colab": {}
      },
      "source": [
        "traindata['EDUCATION_STATUS']=traindata['EDUCATION_STATUS'].replace(['Graduate','High School','Other'], [3,2,1]) \n",
        "testdata['EDUCATION_STATUS']=testdata['EDUCATION_STATUS'].replace(['Graduate','High School','Other'], [3,2,1]) "
      ],
      "execution_count": 0,
      "outputs": []
    },
    {
      "cell_type": "code",
      "metadata": {
        "id": "zH4QhWBp2t5J",
        "colab_type": "code",
        "colab": {}
      },
      "source": [
        "traindata['MARITAL_STATUS']=traindata['MARITAL_STATUS'].replace(['Single','Other'], [1,2]) \n",
        "testdata['MARITAL_STATUS']=testdata['MARITAL_STATUS'].replace(['Single','Other'], [1,2]) "
      ],
      "execution_count": 0,
      "outputs": []
    },
    {
      "cell_type": "code",
      "metadata": {
        "id": "l8aXSJ9n5Pll",
        "colab_type": "code",
        "colab": {}
      },
      "source": [
        "traindata['AGE']=traindata['AGE'].replace(['Less than 30','31-45','46-65','More than 65'], [4,3,2,1]) \n",
        "testdata['AGE']=testdata['AGE'].replace(['Less than 30','31-45','46-65','More than 65'], [4,3,2,1]) \n"
      ],
      "execution_count": 0,
      "outputs": []
    },
    {
      "cell_type": "code",
      "metadata": {
        "id": "6_3PKioj90Zc",
        "colab_type": "code",
        "colab": {}
      },
      "source": [
        "traindata['Balance_Limit_V1'] = traindata['Balance_Limit_V1'].map(lambda x : float(x[0:-1])*1000 if (x[-1]=='K') else float(x[0:-1])*1000000)\n",
        "testdata['Balance_Limit_V1'] = testdata['Balance_Limit_V1'].map(lambda x : float(x[0:-1])*1000 if (x[-1]=='K') else float(x[0:-1])*1000000)"
      ],
      "execution_count": 0,
      "outputs": []
    },
    {
      "cell_type": "code",
      "metadata": {
        "id": "NjRN7Ws4DDTp",
        "colab_type": "code",
        "colab": {}
      },
      "source": [
        "# testdata[testdata.columns[12:24]]=testdata[testdata.columns[12:24]]/traindata.mean()[traindata.columns[12:24]]\n",
        "# traindata[traindata.columns[12:24]]=traindata[traindata.columns[12:24]]/traindata.mean()[traindata.columns[12:24]]\n"
      ],
      "execution_count": 0,
      "outputs": []
    },
    {
      "cell_type": "code",
      "metadata": {
        "id": "Xv9QvAnZGRcs",
        "colab_type": "code",
        "colab": {}
      },
      "source": [
        "# testdata['Balance_Limit_V1']=testdata['Balance_Limit_V1']/traindata.mean()['Balance_Limit_V1']\n",
        "# traindata['Balance_Limit_V1']=traindata['Balance_Limit_V1']/traindata.mean()['Balance_Limit_V1']\n"
      ],
      "execution_count": 0,
      "outputs": []
    },
    {
      "cell_type": "code",
      "metadata": {
        "id": "k-pcFCbd4AXN",
        "colab_type": "code",
        "colab": {}
      },
      "source": [
        "# output = 'NEXT_MONTH_DEFAULT'\n",
        "\n",
        "# # Let's do a little EDA\n",
        "# cols = [ f for f in traindata.columns if traindata.dtypes[ f ] != \"object\"]\n",
        "\n",
        "# cols.remove( output )\n",
        "\n",
        "# f = pd.melt( traindata, id_vars=output, value_vars=cols)\n",
        "# g = sns.FacetGrid( f, hue=output, col=\"variable\", col_wrap=5, sharex=False, sharey=False )\n",
        "# g = g.map( sns.distplot, \"value\", kde=True).add_legend()\n"
      ],
      "execution_count": 0,
      "outputs": []
    },
    {
      "cell_type": "code",
      "metadata": {
        "id": "YdT6SNA7GwlY",
        "colab_type": "code",
        "colab": {}
      },
      "source": [
        "traindata['BIAS']=1\n",
        "testdata['BIAS']=1"
      ],
      "execution_count": 0,
      "outputs": []
    },
    {
      "cell_type": "code",
      "metadata": {
        "id": "metLq05SjqLi",
        "colab_type": "code",
        "colab": {}
      },
      "source": [
        "independentVar= ['Balance_Limit_V1',\n",
        "                'Gender',\n",
        "                  # 'EDUCATION_STATUS',\n",
        "                  'MARITAL_STATUS',\n",
        "                  # 'AGE',\n",
        "                 'PAY_JULY','PAY_AUG','PAY_SEP','PAY_OCT','PAY_NOV','PAY_DEC',\n",
        "                 'DUE_AMT_JULY','DUE_AMT_AUG','DUE_AMT_SEP','DUE_AMT_OCT','DUE_AMT_NOV','DUE_AMT_DEC',\n",
        "                'PAID_AMT_JULY','PAID_AMT_AUG','PAID_AMT_SEP','PAID_AMT_OCT','PAID_AMT_NOV','PAID_AMT_DEC',\n",
        "                #  'BIAS'\n",
        "                 ]\n",
        "\n",
        "X_train, y_train,X_test =traindata[independentVar],traindata['NEXT_MONTH_DEFAULT'],testdata[independentVar]\n",
        "\n",
        "X_train, y_train =traindata[independentVar],traindata['NEXT_MONTH_DEFAULT']\n",
        "\n",
        "from sklearn.model_selection import train_test_split\n",
        "X_train,Xtest, y_train,ytest = train_test_split(X_train,y_train,test_size=0.0001)\n",
        "\n",
        "from sklearn.preprocessing import StandardScaler\n",
        "scX = StandardScaler()\n",
        "X_train = scX.fit_transform( X_train )\n",
        "X_test = scX.transform( X_test )\n",
        "\n",
        "\n",
        "\n",
        "\n",
        "# from imblearn.over_sampling import SMOTE\n",
        "# from imblearn.under_sampling import RandomUnderSampler\n",
        " \n",
        "\n",
        "# # define undersampling strategy\n",
        "# under = RandomUnderSampler(sampling_strategy=0.4)\n",
        "# # fit and apply the transform\n",
        "# X_train_res, y_train_res = under.fit_resample(X_train, y_train)\n",
        "\n",
        "# sm = SMOTE(random_state=2,sampling_strategy=0.5)\n",
        "# X_train_res, y_train_res = sm.fit_sample(X_train, y_train.ravel())\n",
        "\n",
        "\n",
        "\n"
      ],
      "execution_count": 0,
      "outputs": []
    },
    {
      "cell_type": "code",
      "metadata": {
        "id": "leESrPw_r7Kf",
        "colab_type": "code",
        "outputId": "36ea0660-e4fd-464a-fcbf-fed3943798c0",
        "colab": {
          "base_uri": "https://localhost:8080/",
          "height": 50
        }
      },
      "source": [
        "\n",
        "from sklearn.ensemble import RandomForestClassifier,AdaBoostClassifier,GradientBoostingClassifier\n",
        "from sklearn.tree import DecisionTreeClassifier\n",
        "# classifier = RandomForestClassifier(n_estimators=10)\n",
        "# classifier.fit( X_train, y_train)\n",
        "\n",
        "\n",
        "classifier= AdaBoostClassifier(random_state=41,learning_rate=0.3,n_estimators=5)\n",
        "classifier.fit(X_train, y_train)\n",
        "\n",
        "# classifier = DecisionTreeClassifier(random_state=41,max_leaf_nodes=5)\n",
        "# classifier.fit(X_train,y_train)\n",
        "\n",
        "# classifier = GradientBoostingClassifier(random_state=41,n_estimators=10,max_depth=4)\n",
        "# classifier.fit(X_train,y_train)\n",
        "\n",
        "\n",
        "\n"
      ],
      "execution_count": 0,
      "outputs": [
        {
          "output_type": "execute_result",
          "data": {
            "text/plain": [
              "AdaBoostClassifier(algorithm='SAMME.R', base_estimator=None, learning_rate=0.3,\n",
              "                   n_estimators=6, random_state=41)"
            ]
          },
          "metadata": {
            "tags": []
          },
          "execution_count": 1413
        }
      ]
    },
    {
      "cell_type": "code",
      "metadata": {
        "id": "OaQqJfassUZD",
        "colab_type": "code",
        "outputId": "2ffbc678-215d-4594-aa30-583556ff8a78",
        "colab": {
          "base_uri": "https://localhost:8080/",
          "height": 118
        }
      },
      "source": [
        "y_pred = classifier.predict(X_test)\n",
        "y_pred1 = classifier.predict(Xtest)\n",
        "y=[]\n",
        "for i in y_pred:\n",
        "  y.append([i])\n",
        "ydata=pd.DataFrame(y,columns=['NEXT_MONTH_DEFAULT'])\n",
        "ydata['Client_ID']=testdata['Client_ID']\n",
        "ydata.to_csv('output.csv')\n",
        "print (ydata.groupby(['NEXT_MONTH_DEFAULT']).count())\n",
        "\n",
        "\n",
        "\n",
        "\n",
        "from sklearn import metrics\n",
        "from sklearn.metrics import confusion_matrix\n",
        "confusion_matrix = confusion_matrix(ytest, y_pred1)\n",
        "print(confusion_matrix)"
      ],
      "execution_count": 0,
      "outputs": [
        {
          "output_type": "stream",
          "text": [
            "                    Client_ID\n",
            "NEXT_MONTH_DEFAULT           \n",
            "0                        5387\n",
            "1                         613\n",
            "[[2 0]\n",
            " [1 0]]\n"
          ],
          "name": "stdout"
        }
      ]
    },
    {
      "cell_type": "code",
      "metadata": {
        "id": "mvXTT9EGtwle",
        "colab_type": "code",
        "outputId": "b02b9f57-e136-42a0-b5a1-2191ec1c89a6",
        "colab": {
          "base_uri": "https://localhost:8080/",
          "height": 222
        }
      },
      "source": [
        "from sklearn.metrics import classification_report\n",
        "print(classification_report(ytest, y_pred1))\n"
      ],
      "execution_count": 0,
      "outputs": [
        {
          "output_type": "stream",
          "text": [
            "              precision    recall  f1-score   support\n",
            "\n",
            "           0       0.67      1.00      0.80         2\n",
            "           1       0.00      0.00      0.00         1\n",
            "\n",
            "    accuracy                           0.67         3\n",
            "   macro avg       0.33      0.50      0.40         3\n",
            "weighted avg       0.44      0.67      0.53         3\n",
            "\n"
          ],
          "name": "stdout"
        },
        {
          "output_type": "stream",
          "text": [
            "/usr/local/lib/python3.6/dist-packages/sklearn/metrics/_classification.py:1272: UndefinedMetricWarning: Precision and F-score are ill-defined and being set to 0.0 in labels with no predicted samples. Use `zero_division` parameter to control this behavior.\n",
            "  _warn_prf(average, modifier, msg_start, len(result))\n"
          ],
          "name": "stderr"
        }
      ]
    },
    {
      "cell_type": "code",
      "metadata": {
        "id": "iPwjEpOUbkWD",
        "colab_type": "code",
        "colab": {}
      },
      "source": [
        ""
      ],
      "execution_count": 0,
      "outputs": []
    }
  ]
}